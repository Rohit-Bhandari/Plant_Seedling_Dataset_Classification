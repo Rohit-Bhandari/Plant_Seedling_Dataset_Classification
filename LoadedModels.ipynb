{
 "cells": [
  {
   "cell_type": "code",
   "execution_count": null,
   "metadata": {
    "colab": {
     "base_uri": "https://localhost:8080/"
    },
    "id": "htL6L_hnvq8p",
    "outputId": "675ae2ed-5b83-4a22-91f1-e933590c9086"
   },
   "outputs": [
    {
     "name": "stdout",
     "output_type": "stream",
     "text": [
      "Drive already mounted at /content/drive; to attempt to forcibly remount, call drive.mount(\"/content/drive\", force_remount=True).\n"
     ]
    }
   ],
   "source": [
    "from google.colab import drive\n",
    "drive.mount('/content/drive')"
   ]
  },
  {
   "cell_type": "code",
   "execution_count": null,
   "metadata": {
    "id": "rcMfN7laW22z"
   },
   "outputs": [],
   "source": [
    "import tensorflow as tf\n",
    "import numpy as np\n",
    "import os\n",
    "import pandas as pd\n",
    "from keras.applications.vgg16 import VGG16,preprocess_input"
   ]
  },
  {
   "cell_type": "code",
   "execution_count": null,
   "metadata": {
    "id": "w33p11-Igvzr"
   },
   "outputs": [],
   "source": [
    "\n",
    "from keras.preprocessing import image\n"
   ]
  },
  {
   "cell_type": "code",
   "execution_count": null,
   "metadata": {
    "id": "ntKZBqaLfGuM"
   },
   "outputs": [],
   "source": [
    "test_dir = '/content/drive/MyDrive/test'"
   ]
  },
  {
   "cell_type": "code",
   "execution_count": null,
   "metadata": {
    "colab": {
     "base_uri": "https://localhost:8080/"
    },
    "id": "KaRXba4Pfuk8",
    "outputId": "7acc3f67-65b6-4b9d-fd82-838c4f9738a9"
   },
   "outputs": [
    {
     "data": {
      "text/plain": [
       "(794, 2)"
      ]
     },
     "execution_count": 5,
     "metadata": {},
     "output_type": "execute_result"
    }
   ],
   "source": [
    "test = []\n",
    "for file in os.listdir(test_dir):\n",
    "    test.append(['test/{}'.format(file), file])\n",
    "test = pd.DataFrame(test, columns=['filepath', 'file'])\n",
    "\n",
    "test.shape\n"
   ]
  },
  {
   "cell_type": "code",
   "execution_count": null,
   "metadata": {
    "colab": {
     "base_uri": "https://localhost:8080/",
     "height": 112
    },
    "id": "iP8U94rngHpb",
    "outputId": "81de8b71-c816-4d3b-bb24-c90547e554d2"
   },
   "outputs": [
    {
     "data": {
      "text/html": [
       "\n",
       "  <div id=\"df-8e01c269-081b-4cff-9dfe-16f422ba0fb3\">\n",
       "    <div class=\"colab-df-container\">\n",
       "      <div>\n",
       "<style scoped>\n",
       "    .dataframe tbody tr th:only-of-type {\n",
       "        vertical-align: middle;\n",
       "    }\n",
       "\n",
       "    .dataframe tbody tr th {\n",
       "        vertical-align: top;\n",
       "    }\n",
       "\n",
       "    .dataframe thead th {\n",
       "        text-align: right;\n",
       "    }\n",
       "</style>\n",
       "<table border=\"1\" class=\"dataframe\">\n",
       "  <thead>\n",
       "    <tr style=\"text-align: right;\">\n",
       "      <th></th>\n",
       "      <th>filepath</th>\n",
       "      <th>file</th>\n",
       "    </tr>\n",
       "  </thead>\n",
       "  <tbody>\n",
       "    <tr>\n",
       "      <th>0</th>\n",
       "      <td>test/003d61042.png</td>\n",
       "      <td>003d61042.png</td>\n",
       "    </tr>\n",
       "    <tr>\n",
       "      <th>1</th>\n",
       "      <td>test/02cfeb38d.png</td>\n",
       "      <td>02cfeb38d.png</td>\n",
       "    </tr>\n",
       "  </tbody>\n",
       "</table>\n",
       "</div>\n",
       "      <button class=\"colab-df-convert\" onclick=\"convertToInteractive('df-8e01c269-081b-4cff-9dfe-16f422ba0fb3')\"\n",
       "              title=\"Convert this dataframe to an interactive table.\"\n",
       "              style=\"display:none;\">\n",
       "        \n",
       "  <svg xmlns=\"http://www.w3.org/2000/svg\" height=\"24px\"viewBox=\"0 0 24 24\"\n",
       "       width=\"24px\">\n",
       "    <path d=\"M0 0h24v24H0V0z\" fill=\"none\"/>\n",
       "    <path d=\"M18.56 5.44l.94 2.06.94-2.06 2.06-.94-2.06-.94-.94-2.06-.94 2.06-2.06.94zm-11 1L8.5 8.5l.94-2.06 2.06-.94-2.06-.94L8.5 2.5l-.94 2.06-2.06.94zm10 10l.94 2.06.94-2.06 2.06-.94-2.06-.94-.94-2.06-.94 2.06-2.06.94z\"/><path d=\"M17.41 7.96l-1.37-1.37c-.4-.4-.92-.59-1.43-.59-.52 0-1.04.2-1.43.59L10.3 9.45l-7.72 7.72c-.78.78-.78 2.05 0 2.83L4 21.41c.39.39.9.59 1.41.59.51 0 1.02-.2 1.41-.59l7.78-7.78 2.81-2.81c.8-.78.8-2.07 0-2.86zM5.41 20L4 18.59l7.72-7.72 1.47 1.35L5.41 20z\"/>\n",
       "  </svg>\n",
       "      </button>\n",
       "      \n",
       "  <style>\n",
       "    .colab-df-container {\n",
       "      display:flex;\n",
       "      flex-wrap:wrap;\n",
       "      gap: 12px;\n",
       "    }\n",
       "\n",
       "    .colab-df-convert {\n",
       "      background-color: #E8F0FE;\n",
       "      border: none;\n",
       "      border-radius: 50%;\n",
       "      cursor: pointer;\n",
       "      display: none;\n",
       "      fill: #1967D2;\n",
       "      height: 32px;\n",
       "      padding: 0 0 0 0;\n",
       "      width: 32px;\n",
       "    }\n",
       "\n",
       "    .colab-df-convert:hover {\n",
       "      background-color: #E2EBFA;\n",
       "      box-shadow: 0px 1px 2px rgba(60, 64, 67, 0.3), 0px 1px 3px 1px rgba(60, 64, 67, 0.15);\n",
       "      fill: #174EA6;\n",
       "    }\n",
       "\n",
       "    [theme=dark] .colab-df-convert {\n",
       "      background-color: #3B4455;\n",
       "      fill: #D2E3FC;\n",
       "    }\n",
       "\n",
       "    [theme=dark] .colab-df-convert:hover {\n",
       "      background-color: #434B5C;\n",
       "      box-shadow: 0px 1px 3px 1px rgba(0, 0, 0, 0.15);\n",
       "      filter: drop-shadow(0px 1px 2px rgba(0, 0, 0, 0.3));\n",
       "      fill: #FFFFFF;\n",
       "    }\n",
       "  </style>\n",
       "\n",
       "      <script>\n",
       "        const buttonEl =\n",
       "          document.querySelector('#df-8e01c269-081b-4cff-9dfe-16f422ba0fb3 button.colab-df-convert');\n",
       "        buttonEl.style.display =\n",
       "          google.colab.kernel.accessAllowed ? 'block' : 'none';\n",
       "\n",
       "        async function convertToInteractive(key) {\n",
       "          const element = document.querySelector('#df-8e01c269-081b-4cff-9dfe-16f422ba0fb3');\n",
       "          const dataTable =\n",
       "            await google.colab.kernel.invokeFunction('convertToInteractive',\n",
       "                                                     [key], {});\n",
       "          if (!dataTable) return;\n",
       "\n",
       "          const docLinkHtml = 'Like what you see? Visit the ' +\n",
       "            '<a target=\"_blank\" href=https://colab.research.google.com/notebooks/data_table.ipynb>data table notebook</a>'\n",
       "            + ' to learn more about interactive tables.';\n",
       "          element.innerHTML = '';\n",
       "          dataTable['output_type'] = 'display_data';\n",
       "          await google.colab.output.renderOutput(dataTable, element);\n",
       "          const docLink = document.createElement('div');\n",
       "          docLink.innerHTML = docLinkHtml;\n",
       "          element.appendChild(docLink);\n",
       "        }\n",
       "      </script>\n",
       "    </div>\n",
       "  </div>\n",
       "  "
      ],
      "text/plain": [
       "             filepath           file\n",
       "0  test/003d61042.png  003d61042.png\n",
       "1  test/02cfeb38d.png  02cfeb38d.png"
      ]
     },
     "execution_count": 6,
     "metadata": {},
     "output_type": "execute_result"
    }
   ],
   "source": [
    "test.head(2)"
   ]
  },
  {
   "cell_type": "code",
   "execution_count": null,
   "metadata": {
    "id": "RHf86PJCgSGv"
   },
   "outputs": [],
   "source": [
    "INPUT_SIZE = 224"
   ]
  },
  {
   "cell_type": "code",
   "execution_count": null,
   "metadata": {
    "id": "2faIQ9REgdOW"
   },
   "outputs": [],
   "source": [
    "def read_img(filepath, size):\n",
    "    img = image.load_img(filepath, target_size=size)\n",
    "    img = image.img_to_array(img)\n",
    "    return img"
   ]
  },
  {
   "cell_type": "code",
   "execution_count": null,
   "metadata": {
    "colab": {
     "base_uri": "https://localhost:8080/"
    },
    "id": "_d5o9287XetU",
    "outputId": "77c26d36-a52f-478c-9783-b4d0605caca1"
   },
   "outputs": [
    {
     "name": "stdout",
     "output_type": "stream",
     "text": [
      "test Images shape: (794, 224, 224, 3) size: 119,519,232\n"
     ]
    }
   ],
   "source": [
    "\n",
    "x_test = np.zeros((len(test), 224,224, 3), dtype='float32')\n",
    "i = 0\n",
    "for file in test['file']:\n",
    "    img = read_img(os.path.join(test_dir,file), (INPUT_SIZE, INPUT_SIZE))\n",
    "    x = preprocess_input(np.expand_dims(img.copy(), axis=0))\n",
    "    x_test[i] = x\n",
    "    i+=1\n",
    "print('test Images shape: {} size: {:,}'.format(x_test.shape, x_test.size))"
   ]
  },
  {
   "cell_type": "code",
   "execution_count": null,
   "metadata": {
    "id": "tbaLG40vXevt"
   },
   "outputs": [],
   "source": []
  },
  {
   "cell_type": "code",
   "execution_count": null,
   "metadata": {
    "id": "snsc7gEgXe23"
   },
   "outputs": [],
   "source": [
    "class_labels = ['Black-grass', 'Charlock', 'Cleavers', 'Common Chickweed', 'Common wheat', 'Fat Hen', 'Loose Silky-bent',\n",
    "              'Maize', 'Scentless Mayweed', 'Shepherds Purse', 'Small-flowered Cranesbill', 'Sugar beet']\n"
   ]
  },
  {
   "cell_type": "markdown",
   "metadata": {
    "id": "bo5dMEW9wqlR"
   },
   "source": [
    "## VGG16"
   ]
  },
  {
   "cell_type": "code",
   "execution_count": null,
   "metadata": {
    "id": "xG2wOcYkXeq-"
   },
   "outputs": [],
   "source": [
    "vgg = tf.keras.models.load_model('/content/drive/MyDrive/vgg.h5')"
   ]
  },
  {
   "cell_type": "code",
   "execution_count": null,
   "metadata": {
    "colab": {
     "base_uri": "https://localhost:8080/"
    },
    "id": "NVSbT1I2XeyF",
    "outputId": "ec113c1d-c723-4e55-8e04-776aec9040b7"
   },
   "outputs": [
    {
     "name": "stdout",
     "output_type": "stream",
     "text": [
      "Test bottleneck features shape: (794, 12) size: 9,528\n"
     ]
    }
   ],
   "source": [
    "vggpred = vgg.predict(x_test)\n",
    "print('Test bottleneck features shape: {} size: {:,}'.format(vggpred.shape, vggpred.size))"
   ]
  },
  {
   "cell_type": "code",
   "execution_count": null,
   "metadata": {
    "id": "HThwAFScXe0l"
   },
   "outputs": [],
   "source": [
    "vggpred = np.argmax(vggpred,axis=1)"
   ]
  },
  {
   "cell_type": "code",
   "execution_count": null,
   "metadata": {
    "colab": {
     "base_uri": "https://localhost:8080/"
    },
    "id": "byMHVycrXe5V",
    "outputId": "9d252914-bcda-4fb1-8b24-d2f2c07888d8"
   },
   "outputs": [
    {
     "name": "stdout",
     "output_type": "stream",
     "text": [
      "Common Chickweed\n",
      "Common Chickweed\n",
      "Common Chickweed\n",
      "Common Chickweed\n",
      "Common Chickweed\n",
      "Common Chickweed\n",
      "Common Chickweed\n",
      "Common Chickweed\n",
      "Common Chickweed\n",
      "Common Chickweed\n",
      "Common Chickweed\n",
      "Common Chickweed\n",
      "Common Chickweed\n",
      "Common Chickweed\n",
      "Common Chickweed\n",
      "Common Chickweed\n",
      "Common Chickweed\n",
      "Common Chickweed\n",
      "Maize\n",
      "Common Chickweed\n"
     ]
    }
   ],
   "source": [
    "for i in range(20):\n",
    "    print(class_labels[vggpred[i]])"
   ]
  },
  {
   "cell_type": "markdown",
   "metadata": {
    "id": "VoCDK0gFwnGI"
   },
   "source": [
    "## ResNet50"
   ]
  },
  {
   "cell_type": "code",
   "execution_count": null,
   "metadata": {
    "id": "KBEmerEUw3-w"
   },
   "outputs": [],
   "source": [
    "resnet = tf.keras.models.load_model('/content/drive/MyDrive/resnet.h5')"
   ]
  },
  {
   "cell_type": "code",
   "execution_count": null,
   "metadata": {
    "colab": {
     "base_uri": "https://localhost:8080/"
    },
    "id": "PUgRae_5Xe74",
    "outputId": "3ca07ea9-3dbb-4014-fcc8-29a2bf6bf3c8"
   },
   "outputs": [
    {
     "name": "stdout",
     "output_type": "stream",
     "text": [
      "Test bottleneck features shape: (794, 12) size: 9,528\n"
     ]
    }
   ],
   "source": [
    "resnetpred = resnet.predict(x_test)\n",
    "print('Test bottleneck features shape: {} size: {:,}'.format(resnetpred.shape, resnetpred.size))"
   ]
  },
  {
   "cell_type": "code",
   "execution_count": null,
   "metadata": {
    "id": "HTQEaDJ7Xe-O"
   },
   "outputs": [],
   "source": [
    "resnetpred = np.argmax(resnetpred,axis=1)"
   ]
  },
  {
   "cell_type": "code",
   "execution_count": null,
   "metadata": {
    "colab": {
     "base_uri": "https://localhost:8080/"
    },
    "id": "0c6EjbIbXfAZ",
    "outputId": "0b0bfabb-fa98-40e6-8b8c-5bfc62b0ea3c"
   },
   "outputs": [
    {
     "name": "stdout",
     "output_type": "stream",
     "text": [
      "Loose Silky-bent\n",
      "Loose Silky-bent\n",
      "Loose Silky-bent\n",
      "Loose Silky-bent\n",
      "Loose Silky-bent\n",
      "Loose Silky-bent\n",
      "Loose Silky-bent\n",
      "Loose Silky-bent\n",
      "Loose Silky-bent\n",
      "Loose Silky-bent\n",
      "Loose Silky-bent\n",
      "Loose Silky-bent\n",
      "Loose Silky-bent\n",
      "Loose Silky-bent\n",
      "Loose Silky-bent\n",
      "Loose Silky-bent\n",
      "Loose Silky-bent\n",
      "Loose Silky-bent\n",
      "Loose Silky-bent\n",
      "Loose Silky-bent\n"
     ]
    }
   ],
   "source": [
    "\n",
    "for i in range(20):\n",
    "    print(class_labels[resnetpred[i]])"
   ]
  },
  {
   "cell_type": "markdown",
   "metadata": {
    "id": "XHlAiLxCws9I"
   },
   "source": [
    "## InceptionV3"
   ]
  },
  {
   "cell_type": "code",
   "execution_count": null,
   "metadata": {
    "id": "-jMSRDX1w74z"
   },
   "outputs": [],
   "source": [
    "inc = tf.keras.models.load_model('/content/drive/MyDrive/inc.h5')"
   ]
  },
  {
   "cell_type": "code",
   "execution_count": null,
   "metadata": {
    "colab": {
     "base_uri": "https://localhost:8080/"
    },
    "id": "_WDDklytXfCm",
    "outputId": "5bad295d-9f26-4341-eb9a-445440a9e251"
   },
   "outputs": [
    {
     "name": "stdout",
     "output_type": "stream",
     "text": [
      "Test bottleneck features shape: (794, 12) size: 9,528\n"
     ]
    }
   ],
   "source": [
    "incpred = inc.predict(x_test)\n",
    "print('Test bottleneck features shape: {} size: {:,}'.format(incpred.shape, incpred.size))\n",
    "\n"
   ]
  },
  {
   "cell_type": "code",
   "execution_count": null,
   "metadata": {
    "colab": {
     "base_uri": "https://localhost:8080/"
    },
    "id": "nVK7S6m0XfFQ",
    "outputId": "86642e7d-3412-443a-a4b9-ff946272c306"
   },
   "outputs": [
    {
     "name": "stdout",
     "output_type": "stream",
     "text": [
      "Charlock\n",
      "Charlock\n",
      "Charlock\n",
      "Charlock\n",
      "Charlock\n",
      "Charlock\n",
      "Charlock\n",
      "Small-flowered Cranesbill\n",
      "Charlock\n",
      "Charlock\n",
      "Charlock\n",
      "Small-flowered Cranesbill\n",
      "Charlock\n",
      "Charlock\n",
      "Charlock\n",
      "Charlock\n",
      "Charlock\n",
      "Charlock\n",
      "Charlock\n",
      "Charlock\n"
     ]
    }
   ],
   "source": [
    "incpred = np.argmax(incpred,axis=1)\n",
    "\n",
    "for i in range(20):\n",
    "    print(class_labels[incpred[i]])"
   ]
  },
  {
   "cell_type": "code",
   "execution_count": null,
   "metadata": {
    "id": "1jNDa9Dc_a5Z"
   },
   "outputs": [],
   "source": []
  },
  {
   "cell_type": "code",
   "execution_count": null,
   "metadata": {
    "id": "_oDkXSBIwxBj"
   },
   "outputs": [],
   "source": []
  },
  {
   "cell_type": "code",
   "execution_count": null,
   "metadata": {
    "id": "lQvMkBNZ_grw"
   },
   "outputs": [],
   "source": []
  }
 ],
 "metadata": {
  "colab": {
   "collapsed_sections": [],
   "name": "Assignment 6 load models.ipynb",
   "provenance": []
  },
  "kernelspec": {
   "display_name": "Python 3",
   "language": "python",
   "name": "python3"
  },
  "language_info": {
   "codemirror_mode": {
    "name": "ipython",
    "version": 3
   },
   "file_extension": ".py",
   "mimetype": "text/x-python",
   "name": "python",
   "nbconvert_exporter": "python",
   "pygments_lexer": "ipython3",
   "version": "3.8.3"
  }
 },
 "nbformat": 4,
 "nbformat_minor": 1
}
